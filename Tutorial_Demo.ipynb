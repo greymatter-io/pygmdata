{
 "cells": [
  {
   "cell_type": "markdown",
   "id": "structural-bradley",
   "metadata": {},
   "source": [
    "# PyGMData\n",
    "\n",
    "Welcome to the PyGMData tutorial!\n",
    "\n",
    "PyGMData is a Python SDK to interface with the Grey Matter Data API. It has the ability to do things like:\n",
    "\n",
    "- Stream files directly to/from memory (both download and upload)\n",
    "- Upload and download files from/to disk\n",
    "- Handle impersonation and TLS connections\n",
    "- File appends in Data (both from files on disk and memory)\n",
    "- Internal logging, both to standard out and to a file\n",
    "\n"
   ]
  },
  {
   "cell_type": "markdown",
   "id": "chemical-premises",
   "metadata": {},
   "source": [
    "## Setup\n",
    "\n",
    "First start by importing the library. This is a normal python library and can be used just the same as any other.\n",
    "\n",
    "Then make the pygmdata object to interface with Grey Matter Data. This takes the base `URL` that Data lives at which will be used for all of the calls to Data. Optional parameters can be supplied as well. Currently these are supported:\n",
    "\n",
    "- `USER_DN` - Used for user impersonation. This is used for every transaction if specified. This can be changed later if needed.\n",
    "- `logfile` - Will ouput logs to a file if specified. No file output by default.\n",
    "- `log_level` - Level of verbosity to log, defaults to warnings\n",
    "- `security` - The default security policy to use. This can be overidden when writing files. If not specified it will use:\n",
    "    ```Python\n",
    "        {\"label\": \"DECIPHER//GMDATA\",\n",
    "         \"foreground\": \"#FFFFFF\",\n",
    "         \"background\": \"green\"}\n",
    "    ```\n",
    "- `cert` - Certificate to use in pem format.\n",
    "- `key` - keyfile to use in pem format.\n",
    "- `trust` - CA trust to use to make TLS connections.\n",
    "- `repopulate` - A hack to get around changes that may have happened\n",
    "    in Data between file uploads and hierarchy updates"
   ]
  },
  {
   "cell_type": "code",
   "execution_count": 1,
   "id": "formed-people",
   "metadata": {},
   "outputs": [],
   "source": [
    "from pygmdata import pygmdata\n",
    "\n",
    "#cert = \"/Users/dborncamp/.ssh/di2e/20200831/dave.borncamp.crt\"\n",
    "#key = \"/Users/dborncamp/.ssh/di2e/20200831/dave.borncamp.key\"\n",
    "\n",
    "#d = pygmdata.Data(\"https://mesh.greymatter.devcloud.di2e.net/services/sandbox-data/1.1\",\n",
    "#                  cert=cert, key=key, repopulate=False)\n",
    "\n",
    "# set a DN that has permissions to do things in Data\n",
    "d = pygmdata.Data(\"http://localhost:8181\",\n",
    "                  USER_DN='CN=dave.borncamp,OU=Engineering,O=Untrusted Example,L=Baltimore,ST=MD,C=US')"
   ]
  },
  {
   "cell_type": "markdown",
   "id": "faced-tiffany",
   "metadata": {},
   "source": [
    "### Create Home Directory\n",
    "\n",
    "To start, most users will be writing to their home directory and by default it is not created for us. The PyGMData SDK has pre-built functions to create it for whatever user/imersonation is interacting with Data.\n",
    "\n",
    "Custom Object Policies can be used for creating any directory."
   ]
  },
  {
   "cell_type": "code",
   "execution_count": null,
   "id": "existing-donor",
   "metadata": {},
   "outputs": [],
   "source": [
    "import json\n",
    "\n",
    "op = '''{'label': 'email match',\n",
    " 'requirements': {'f': 'if',\n",
    "  'a': [{'f': 'contains',\n",
    "    'a': [{'v': 'email'}, {'v': 'dave.borncamp@greymatter.io'}]},\n",
    "   {'f': 'yield-all'},\n",
    "   {'f': 'yield', 'a': [{'v': 'R'}, {'v': 'X'}, {'v': 'U'}]}]}}'''\n",
    "\n",
    "d.get_self_identify(object_policy=json.loads(op))"
   ]
  },
  {
   "cell_type": "markdown",
   "id": "conscious-identification",
   "metadata": {},
   "source": [
    "## Writing to GM Data"
   ]
  },
  {
   "cell_type": "markdown",
   "id": "liquid-retirement",
   "metadata": {},
   "source": [
    "### Writing to Data\n",
    "\n",
    "Now that we have a home directory, lets start writing data into it. We'll start by uploading a file to Data from Disk"
   ]
  },
  {
   "cell_type": "code",
   "execution_count": null,
   "id": "becoming-moscow",
   "metadata": {},
   "outputs": [],
   "source": [
    "d.upload_file(\"requirements.txt\", \"/home/icEMail:justin.ely@ic.com/requirements.txt\")"
   ]
  },
  {
   "cell_type": "markdown",
   "id": "micro-blair",
   "metadata": {},
   "source": [
    "The text file containing the requirements for pygmdata library should now be in Data!\n",
    "\n",
    "Lets try writing a file and streaming the contents from memory starting with a string.\n",
    "Normally streaming to data would take an IO buffer, but there is a convience method for uploading strings."
   ]
  },
  {
   "cell_type": "code",
   "execution_count": null,
   "id": "practical-reducing",
   "metadata": {},
   "outputs": [],
   "source": [
    "upload_text = \"\"\"This is a sample of text that is a string in memory.\n",
    "It was uploaded with pygmdata.\n",
    "\"\"\"\n",
    "\n",
    "d.stream_upload_string(upload_text, '/home/icEMail:justin.ely@ic.com/DemoUpload.txt')"
   ]
  },
  {
   "cell_type": "markdown",
   "id": "empty-isolation",
   "metadata": {},
   "source": [
    "Now, lets try uploading some more interesting files like a Pandas DataFrame"
   ]
  },
  {
   "cell_type": "code",
   "execution_count": 2,
   "id": "robust-administrator",
   "metadata": {},
   "outputs": [
    {
     "data": {
      "text/html": [
       "<div>\n",
       "<style scoped>\n",
       "    .dataframe tbody tr th:only-of-type {\n",
       "        vertical-align: middle;\n",
       "    }\n",
       "\n",
       "    .dataframe tbody tr th {\n",
       "        vertical-align: top;\n",
       "    }\n",
       "\n",
       "    .dataframe thead th {\n",
       "        text-align: right;\n",
       "    }\n",
       "</style>\n",
       "<table border=\"1\" class=\"dataframe\">\n",
       "  <thead>\n",
       "    <tr style=\"text-align: right;\">\n",
       "      <th></th>\n",
       "      <th>name</th>\n",
       "      <th>city</th>\n",
       "      <th>age</th>\n",
       "      <th>py-score</th>\n",
       "    </tr>\n",
       "  </thead>\n",
       "  <tbody>\n",
       "    <tr>\n",
       "      <th>1</th>\n",
       "      <td>Xavier</td>\n",
       "      <td>Mexico City</td>\n",
       "      <td>41</td>\n",
       "      <td>88.0</td>\n",
       "    </tr>\n",
       "    <tr>\n",
       "      <th>2</th>\n",
       "      <td>Ann</td>\n",
       "      <td>Toronto</td>\n",
       "      <td>28</td>\n",
       "      <td>79.0</td>\n",
       "    </tr>\n",
       "    <tr>\n",
       "      <th>3</th>\n",
       "      <td>Jana</td>\n",
       "      <td>Prague</td>\n",
       "      <td>33</td>\n",
       "      <td>81.0</td>\n",
       "    </tr>\n",
       "    <tr>\n",
       "      <th>4</th>\n",
       "      <td>Yi</td>\n",
       "      <td>Shanghai</td>\n",
       "      <td>34</td>\n",
       "      <td>80.0</td>\n",
       "    </tr>\n",
       "    <tr>\n",
       "      <th>5</th>\n",
       "      <td>Robin</td>\n",
       "      <td>Manchester</td>\n",
       "      <td>38</td>\n",
       "      <td>68.0</td>\n",
       "    </tr>\n",
       "  </tbody>\n",
       "</table>\n",
       "</div>"
      ],
      "text/plain": [
       "     name         city  age  py-score\n",
       "1  Xavier  Mexico City   41      88.0\n",
       "2     Ann      Toronto   28      79.0\n",
       "3    Jana       Prague   33      81.0\n",
       "4      Yi     Shanghai   34      80.0\n",
       "5   Robin   Manchester   38      68.0"
      ]
     },
     "execution_count": 2,
     "metadata": {},
     "output_type": "execute_result"
    }
   ],
   "source": [
    "import pandas as pd\n",
    "\n",
    "data = {\n",
    "    'name': ['Xavier', 'Ann', 'Jana', 'Yi', 'Robin', 'Amal', 'Nori'],\n",
    "    'city': ['Mexico City', 'Toronto', 'Prague', 'Shanghai',\n",
    "             'Manchester', 'Cairo', 'Osaka'],\n",
    "    'age': [41, 28, 33, 34, 38, 31, 37],\n",
    "    'py-score': [88.0, 79.0, 81.0, 80.0, 68.0, 61.0, 84.0]\n",
    "}\n",
    "\n",
    "row_labels = [1, 2, 3, 4, 5, 6, 7]\n",
    "\n",
    "df = pd.DataFrame(data=data, index=row_labels)\n",
    "df.head()"
   ]
  },
  {
   "cell_type": "markdown",
   "id": "assigned-component",
   "metadata": {},
   "source": [
    "And now actually send it by making a buffer and converting it to a .csv and sending that output to Data"
   ]
  },
  {
   "cell_type": "code",
   "execution_count": 3,
   "id": "caroline-trailer",
   "metadata": {},
   "outputs": [
    {
     "data": {
      "text/plain": [
       "True"
      ]
     },
     "execution_count": 3,
     "metadata": {},
     "output_type": "execute_result"
    }
   ],
   "source": [
    "import io\n",
    "\n",
    "text_stream = io.StringIO()\n",
    "\n",
    "df.to_csv(text_stream)\n",
    "\n",
    "d.stream_upload(text_stream, \"/home/icEMail:justin.ely@ic.com/testDataFrameBEM.csv\")"
   ]
  },
  {
   "cell_type": "markdown",
   "id": "prime-consultancy",
   "metadata": {},
   "source": [
    "### Append to a file\n",
    "\n",
    "We can also append to existing files. This could be useful for adding to logs in Data. Also useful for asynchronyous writes from multiple places."
   ]
  },
  {
   "cell_type": "code",
   "execution_count": 4,
   "id": "early-dayton",
   "metadata": {},
   "outputs": [
    {
     "name": "stdout",
     "output_type": "stream",
     "text": [
      "Appending: 0\n",
      "Appending: 1\n",
      "Appending: 2\n",
      "Appending: 3\n",
      "Appending: 4\n",
      "Appending: 5\n",
      "Appending: 6\n",
      "Appending: 7\n",
      "Appending: 8\n",
      "Appending: 9\n",
      "Appending: 10\n",
      "Appending: 11\n",
      "Appending: 12\n",
      "Appending: 13\n",
      "Appending: 14\n",
      "Appending: 15\n",
      "Appending: 16\n",
      "Appending: 17\n",
      "Appending: 18\n",
      "Appending: 19\n"
     ]
    }
   ],
   "source": [
    "import time\n",
    "\n",
    "for i in range(20):\n",
    "    time.sleep(1)\n",
    "    print(\"Appending: {}\".format(i))\n",
    "    d.append_data(\"new line {}\\n\".format(i), \"/home/icEMail:justin.ely@ic.com/appendBEM.txt\")"
   ]
  },
  {
   "cell_type": "code",
   "execution_count": null,
   "id": "wired-incentive",
   "metadata": {},
   "outputs": [],
   "source": []
  },
  {
   "cell_type": "markdown",
   "id": "offensive-begin",
   "metadata": {},
   "source": [
    "\n"
   ]
  },
  {
   "cell_type": "markdown",
   "id": "warming-latter",
   "metadata": {},
   "source": [
    "### Uploading WIth Rego Policy\n",
    "\n",
    "We can also upload with any Rego/OPA policy"
   ]
  },
  {
   "cell_type": "code",
   "execution_count": 2,
   "id": "clear-confusion",
   "metadata": {},
   "outputs": [
    {
     "ename": "JSONDecodeError",
     "evalue": "Expecting value: line 1 column 1 (char 0)",
     "output_type": "error",
     "traceback": [
      "\u001B[0;31m---------------------------------------------------------------------------\u001B[0m",
      "\u001B[0;31mJSONDecodeError\u001B[0m                           Traceback (most recent call last)",
      "\u001B[0;32m<ipython-input-2-dad12da767d1>\u001B[0m in \u001B[0;36m<module>\u001B[0;34m\u001B[0m\n\u001B[1;32m     11\u001B[0m \u001B[0;34m\u001B[0m\u001B[0m\n\u001B[1;32m     12\u001B[0m \u001B[0;31m#d.stream_upload(rego_string, '/home/icEMail:justin.ely@ic.com/ShowRego.txt', original_object_policy=rego_policy)\u001B[0m\u001B[0;34m\u001B[0m\u001B[0;34m\u001B[0m\u001B[0;34m\u001B[0m\u001B[0m\n\u001B[0;32m---> 13\u001B[0;31m \u001B[0md\u001B[0m\u001B[0;34m.\u001B[0m\u001B[0mstream_upload\u001B[0m\u001B[0;34m(\u001B[0m\u001B[0mrego_string\u001B[0m\u001B[0;34m,\u001B[0m \u001B[0;34m'/world/dave.borncamp@greymatter.io/ShowRego.txt'\u001B[0m\u001B[0;34m,\u001B[0m \u001B[0moriginal_object_policy\u001B[0m\u001B[0;34m=\u001B[0m\u001B[0mrego_policy\u001B[0m\u001B[0;34m)\u001B[0m\u001B[0;34m\u001B[0m\u001B[0;34m\u001B[0m\u001B[0m\n\u001B[0m",
      "\u001B[0;32m~/playpen/pygmdata/pygmdata/pygmdata.py\u001B[0m in \u001B[0;36mstream_upload\u001B[0;34m(self, data_buf, data_filename, object_policy, original_object_policy, **kwargs)\u001B[0m\n\u001B[1;32m    796\u001B[0m         \u001B[0mheaders\u001B[0m\u001B[0;34m[\u001B[0m\u001B[0;34m'Content-Type'\u001B[0m\u001B[0;34m]\u001B[0m \u001B[0;34m=\u001B[0m \u001B[0mmultipart_data\u001B[0m\u001B[0;34m.\u001B[0m\u001B[0mcontent_type\u001B[0m\u001B[0;34m\u001B[0m\u001B[0;34m\u001B[0m\u001B[0m\n\u001B[1;32m    797\u001B[0m \u001B[0;34m\u001B[0m\u001B[0m\n\u001B[0;32m--> 798\u001B[0;31m         \u001B[0mwrite_response\u001B[0m \u001B[0;34m=\u001B[0m \u001B[0mself\u001B[0m\u001B[0;34m.\u001B[0m\u001B[0mpost_write\u001B[0m\u001B[0;34m(\u001B[0m\u001B[0mmultipart_data\u001B[0m\u001B[0;34m,\u001B[0m \u001B[0mheaders\u001B[0m\u001B[0;34m)\u001B[0m\u001B[0;34m\u001B[0m\u001B[0;34m\u001B[0m\u001B[0m\n\u001B[0m\u001B[1;32m    799\u001B[0m         \u001B[0;32mif\u001B[0m \u001B[0mwrite_response\u001B[0m\u001B[0;34m:\u001B[0m\u001B[0;34m\u001B[0m\u001B[0;34m\u001B[0m\u001B[0m\n\u001B[1;32m    800\u001B[0m             \u001B[0mself\u001B[0m\u001B[0;34m.\u001B[0m\u001B[0mhierarchy\u001B[0m\u001B[0;34m[\u001B[0m\u001B[0mdata_filename\u001B[0m\u001B[0;34m]\u001B[0m \u001B[0;34m=\u001B[0m \u001B[0mwrite_response\u001B[0m\u001B[0;34m\u001B[0m\u001B[0;34m\u001B[0m\u001B[0m\n",
      "\u001B[0;32m~/playpen/pygmdata/pygmdata/pygmdata.py\u001B[0m in \u001B[0;36mpost_write\u001B[0;34m(self, data, headers)\u001B[0m\n\u001B[1;32m    294\u001B[0m \u001B[0;34m\u001B[0m\u001B[0m\n\u001B[1;32m    295\u001B[0m         \u001B[0;32mtry\u001B[0m\u001B[0;34m:\u001B[0m\u001B[0;34m\u001B[0m\u001B[0;34m\u001B[0m\u001B[0m\n\u001B[0;32m--> 296\u001B[0;31m             \u001B[0mret_json\u001B[0m \u001B[0;34m=\u001B[0m \u001B[0mr\u001B[0m\u001B[0;34m.\u001B[0m\u001B[0mjson\u001B[0m\u001B[0;34m(\u001B[0m\u001B[0;34m)\u001B[0m\u001B[0;34m[\u001B[0m\u001B[0;36m0\u001B[0m\u001B[0;34m]\u001B[0m\u001B[0;34m[\u001B[0m\u001B[0;34m\"oid\"\u001B[0m\u001B[0;34m]\u001B[0m\u001B[0;34m\u001B[0m\u001B[0;34m\u001B[0m\u001B[0m\n\u001B[0m\u001B[1;32m    297\u001B[0m         \u001B[0;32mexcept\u001B[0m \u001B[0mKeyError\u001B[0m \u001B[0;32mas\u001B[0m \u001B[0merr\u001B[0m\u001B[0;34m:\u001B[0m\u001B[0;34m\u001B[0m\u001B[0;34m\u001B[0m\u001B[0m\n\u001B[1;32m    298\u001B[0m             \u001B[0mself\u001B[0m\u001B[0;34m.\u001B[0m\u001B[0mlog\u001B[0m\u001B[0;34m.\u001B[0m\u001B[0minfo\u001B[0m\u001B[0;34m(\u001B[0m\u001B[0;34m\"Was not able to write\"\u001B[0m\u001B[0;34m)\u001B[0m\u001B[0;34m\u001B[0m\u001B[0;34m\u001B[0m\u001B[0m\n",
      "\u001B[0;32m~/playpen/pygmdata/dataLib/lib/python3.8/site-packages/requests/models.py\u001B[0m in \u001B[0;36mjson\u001B[0;34m(self, **kwargs)\u001B[0m\n\u001B[1;32m    898\u001B[0m                     \u001B[0;31m# used.\u001B[0m\u001B[0;34m\u001B[0m\u001B[0;34m\u001B[0m\u001B[0;34m\u001B[0m\u001B[0m\n\u001B[1;32m    899\u001B[0m                     \u001B[0;32mpass\u001B[0m\u001B[0;34m\u001B[0m\u001B[0;34m\u001B[0m\u001B[0m\n\u001B[0;32m--> 900\u001B[0;31m         \u001B[0;32mreturn\u001B[0m \u001B[0mcomplexjson\u001B[0m\u001B[0;34m.\u001B[0m\u001B[0mloads\u001B[0m\u001B[0;34m(\u001B[0m\u001B[0mself\u001B[0m\u001B[0;34m.\u001B[0m\u001B[0mtext\u001B[0m\u001B[0;34m,\u001B[0m \u001B[0;34m**\u001B[0m\u001B[0mkwargs\u001B[0m\u001B[0;34m)\u001B[0m\u001B[0;34m\u001B[0m\u001B[0;34m\u001B[0m\u001B[0m\n\u001B[0m\u001B[1;32m    901\u001B[0m \u001B[0;34m\u001B[0m\u001B[0m\n\u001B[1;32m    902\u001B[0m     \u001B[0;34m@\u001B[0m\u001B[0mproperty\u001B[0m\u001B[0;34m\u001B[0m\u001B[0;34m\u001B[0m\u001B[0m\n",
      "\u001B[0;32m/usr/local/Cellar/python@3.8/3.8.6_2/Frameworks/Python.framework/Versions/3.8/lib/python3.8/json/__init__.py\u001B[0m in \u001B[0;36mloads\u001B[0;34m(s, cls, object_hook, parse_float, parse_int, parse_constant, object_pairs_hook, **kw)\u001B[0m\n\u001B[1;32m    355\u001B[0m             \u001B[0mparse_int\u001B[0m \u001B[0;32mis\u001B[0m \u001B[0;32mNone\u001B[0m \u001B[0;32mand\u001B[0m \u001B[0mparse_float\u001B[0m \u001B[0;32mis\u001B[0m \u001B[0;32mNone\u001B[0m \u001B[0;32mand\u001B[0m\u001B[0;34m\u001B[0m\u001B[0;34m\u001B[0m\u001B[0m\n\u001B[1;32m    356\u001B[0m             parse_constant is None and object_pairs_hook is None and not kw):\n\u001B[0;32m--> 357\u001B[0;31m         \u001B[0;32mreturn\u001B[0m \u001B[0m_default_decoder\u001B[0m\u001B[0;34m.\u001B[0m\u001B[0mdecode\u001B[0m\u001B[0;34m(\u001B[0m\u001B[0ms\u001B[0m\u001B[0;34m)\u001B[0m\u001B[0;34m\u001B[0m\u001B[0;34m\u001B[0m\u001B[0m\n\u001B[0m\u001B[1;32m    358\u001B[0m     \u001B[0;32mif\u001B[0m \u001B[0mcls\u001B[0m \u001B[0;32mis\u001B[0m \u001B[0;32mNone\u001B[0m\u001B[0;34m:\u001B[0m\u001B[0;34m\u001B[0m\u001B[0;34m\u001B[0m\u001B[0m\n\u001B[1;32m    359\u001B[0m         \u001B[0mcls\u001B[0m \u001B[0;34m=\u001B[0m \u001B[0mJSONDecoder\u001B[0m\u001B[0;34m\u001B[0m\u001B[0;34m\u001B[0m\u001B[0m\n",
      "\u001B[0;32m/usr/local/Cellar/python@3.8/3.8.6_2/Frameworks/Python.framework/Versions/3.8/lib/python3.8/json/decoder.py\u001B[0m in \u001B[0;36mdecode\u001B[0;34m(self, s, _w)\u001B[0m\n\u001B[1;32m    335\u001B[0m \u001B[0;34m\u001B[0m\u001B[0m\n\u001B[1;32m    336\u001B[0m         \"\"\"\n\u001B[0;32m--> 337\u001B[0;31m         \u001B[0mobj\u001B[0m\u001B[0;34m,\u001B[0m \u001B[0mend\u001B[0m \u001B[0;34m=\u001B[0m \u001B[0mself\u001B[0m\u001B[0;34m.\u001B[0m\u001B[0mraw_decode\u001B[0m\u001B[0;34m(\u001B[0m\u001B[0ms\u001B[0m\u001B[0;34m,\u001B[0m \u001B[0midx\u001B[0m\u001B[0;34m=\u001B[0m\u001B[0m_w\u001B[0m\u001B[0;34m(\u001B[0m\u001B[0ms\u001B[0m\u001B[0;34m,\u001B[0m \u001B[0;36m0\u001B[0m\u001B[0;34m)\u001B[0m\u001B[0;34m.\u001B[0m\u001B[0mend\u001B[0m\u001B[0;34m(\u001B[0m\u001B[0;34m)\u001B[0m\u001B[0;34m)\u001B[0m\u001B[0;34m\u001B[0m\u001B[0;34m\u001B[0m\u001B[0m\n\u001B[0m\u001B[1;32m    338\u001B[0m         \u001B[0mend\u001B[0m \u001B[0;34m=\u001B[0m \u001B[0m_w\u001B[0m\u001B[0;34m(\u001B[0m\u001B[0ms\u001B[0m\u001B[0;34m,\u001B[0m \u001B[0mend\u001B[0m\u001B[0;34m)\u001B[0m\u001B[0;34m.\u001B[0m\u001B[0mend\u001B[0m\u001B[0;34m(\u001B[0m\u001B[0;34m)\u001B[0m\u001B[0;34m\u001B[0m\u001B[0;34m\u001B[0m\u001B[0m\n\u001B[1;32m    339\u001B[0m         \u001B[0;32mif\u001B[0m \u001B[0mend\u001B[0m \u001B[0;34m!=\u001B[0m \u001B[0mlen\u001B[0m\u001B[0;34m(\u001B[0m\u001B[0ms\u001B[0m\u001B[0;34m)\u001B[0m\u001B[0;34m:\u001B[0m\u001B[0;34m\u001B[0m\u001B[0;34m\u001B[0m\u001B[0m\n",
      "\u001B[0;32m/usr/local/Cellar/python@3.8/3.8.6_2/Frameworks/Python.framework/Versions/3.8/lib/python3.8/json/decoder.py\u001B[0m in \u001B[0;36mraw_decode\u001B[0;34m(self, s, idx)\u001B[0m\n\u001B[1;32m    353\u001B[0m             \u001B[0mobj\u001B[0m\u001B[0;34m,\u001B[0m \u001B[0mend\u001B[0m \u001B[0;34m=\u001B[0m \u001B[0mself\u001B[0m\u001B[0;34m.\u001B[0m\u001B[0mscan_once\u001B[0m\u001B[0;34m(\u001B[0m\u001B[0ms\u001B[0m\u001B[0;34m,\u001B[0m \u001B[0midx\u001B[0m\u001B[0;34m)\u001B[0m\u001B[0;34m\u001B[0m\u001B[0;34m\u001B[0m\u001B[0m\n\u001B[1;32m    354\u001B[0m         \u001B[0;32mexcept\u001B[0m \u001B[0mStopIteration\u001B[0m \u001B[0;32mas\u001B[0m \u001B[0merr\u001B[0m\u001B[0;34m:\u001B[0m\u001B[0;34m\u001B[0m\u001B[0;34m\u001B[0m\u001B[0m\n\u001B[0;32m--> 355\u001B[0;31m             \u001B[0;32mraise\u001B[0m \u001B[0mJSONDecodeError\u001B[0m\u001B[0;34m(\u001B[0m\u001B[0;34m\"Expecting value\"\u001B[0m\u001B[0;34m,\u001B[0m \u001B[0ms\u001B[0m\u001B[0;34m,\u001B[0m \u001B[0merr\u001B[0m\u001B[0;34m.\u001B[0m\u001B[0mvalue\u001B[0m\u001B[0;34m)\u001B[0m \u001B[0;32mfrom\u001B[0m \u001B[0;32mNone\u001B[0m\u001B[0;34m\u001B[0m\u001B[0;34m\u001B[0m\u001B[0m\n\u001B[0m\u001B[1;32m    356\u001B[0m         \u001B[0;32mreturn\u001B[0m \u001B[0mobj\u001B[0m\u001B[0;34m,\u001B[0m \u001B[0mend\u001B[0m\u001B[0;34m\u001B[0m\u001B[0;34m\u001B[0m\u001B[0m\n",
      "\u001B[0;31mJSONDecodeError\u001B[0m: Expecting value: line 1 column 1 (char 0)"
     ]
    }
   ],
   "source": [
    "rego_string = \"This is a test for the rego\"\n",
    "\n",
    "rego_policy = '''package policy\n",
    "inOrg{input.claims.values.email[_]==\"niprnetEmail:dave.borncamp@greymatter.io\"}\n",
    "R{true}\n",
    "X{true}\n",
    "C{inOrg}\n",
    "U{inOrg}\n",
    "D{inOrg}\n",
    "P{inOrg}'''\n",
    "\n",
    "#d.stream_upload(rego_string, '/home/icEMail:justin.ely@ic.com/ShowRego.txt', original_object_policy=rego_policy)\n",
    "d.stream_upload(rego_string, '/world/dave.borncamp@greymatter.io/ShowRego.txt', original_object_policy=rego_policy)"
   ]
  },
  {
   "cell_type": "markdown",
   "id": "consistent-alabama",
   "metadata": {},
   "source": [
    "Now look in Data and see the new file with the rego policy"
   ]
  },
  {
   "cell_type": "markdown",
   "id": "positive-bowling",
   "metadata": {},
   "source": [
    "### Using Actions\n",
    "\n",
    "Now that we have som objects in Data, we can use the SDK to get information on the files. We can get the file properties (ie metadata) and list the contents of the file."
   ]
  },
  {
   "cell_type": "code",
   "execution_count": null,
   "id": "split-captain",
   "metadata": {},
   "outputs": [],
   "source": [
    "from pprint import pprint\n",
    "\n",
    "props = d.get_props('/home/icEMail:justin.ely@ic.com/ShowRego.txt')\n",
    "\n",
    "pprint(props)"
   ]
  },
  {
   "cell_type": "code",
   "execution_count": null,
   "id": "embedded-stranger",
   "metadata": {},
   "outputs": [],
   "source": [
    "listing = d.get_list('/home/icEMail:justin.ely@ic.com/')\n",
    "pprint(listing)"
   ]
  },
  {
   "cell_type": "markdown",
   "id": "available-residence",
   "metadata": {},
   "source": [
    "## Reading From Grey Matter Data\n",
    "\n",
    "Now that we have put some data up there, lets read it out. The PyGMData SDK has functions to read variables directly into memory or give buffers to be managed by other programs. "
   ]
  },
  {
   "cell_type": "code",
   "execution_count": null,
   "id": "spare-start",
   "metadata": {},
   "outputs": [],
   "source": [
    "retreived_text = d.stream_file('/home/icEMail:justin.ely@ic.com/DemoUpload.txt')\n",
    "print(retreived_text)"
   ]
  },
  {
   "cell_type": "markdown",
   "id": "hourly-guide",
   "metadata": {},
   "source": [
    "It can also stream buffers to other libraries like Pandas"
   ]
  },
  {
   "cell_type": "code",
   "execution_count": null,
   "id": "attractive-jungle",
   "metadata": {},
   "outputs": [],
   "source": [
    "import pandas as pd\n",
    "df1 = pd.read_csv(d.get_byte_steam('/home/icEMail:justin.ely@ic.com/testDataFrame.csv'), \n",
    "                 low_memory=False)\n",
    "df1.head()"
   ]
  },
  {
   "cell_type": "markdown",
   "id": "following-veteran",
   "metadata": {},
   "source": [
    "Neither of these files hit disk, they are only in memory!\n",
    "\n",
    "PyGMData SDK also has the ability to easily download files to disk. The file is not on disk to begin with:"
   ]
  },
  {
   "cell_type": "code",
   "execution_count": null,
   "id": "comfortable-tuner",
   "metadata": {},
   "outputs": [],
   "source": [
    "ls"
   ]
  },
  {
   "cell_type": "code",
   "execution_count": null,
   "id": "atmospheric-employment",
   "metadata": {},
   "outputs": [],
   "source": [
    "d.download_file('/home/icEMail:justin.ely@ic.com/DemoUpload.txt', 'downloadTest.txt')"
   ]
  },
  {
   "cell_type": "markdown",
   "id": "reduced-chancellor",
   "metadata": {},
   "source": [
    "Now the file should be on disk and named `downloadTest.txt`"
   ]
  },
  {
   "cell_type": "code",
   "execution_count": null,
   "id": "precise-gates",
   "metadata": {},
   "outputs": [],
   "source": [
    "ls"
   ]
  },
  {
   "cell_type": "markdown",
   "id": "legislative-stable",
   "metadata": {},
   "source": [
    "## Bonus Fun\n",
    "\n",
    "We'll create some small astronomical data and centroid the sources on it, then save an annotated image without writing anything to disk."
   ]
  },
  {
   "cell_type": "code",
   "execution_count": null,
   "id": "manual-content",
   "metadata": {},
   "outputs": [],
   "source": [
    "import io\n",
    "from photutils.datasets import make_4gaussians_image\n",
    "from photutils import centroid_sources, centroid_com\n",
    "import matplotlib.pyplot as plt\n",
    "\n",
    "# create 4 elongated gaussian sources and centroid\n",
    "data = make_4gaussians_image()\n",
    "\n",
    "x_init = (25, 91, 151, 160)\n",
    "y_init = (40, 61, 24, 71)\n",
    "x, y = centroid_sources(data, x_init, y_init, box_size=21,\n",
    "                        centroid_func=centroid_com)\n",
    "plt.figure(figsize=(8, 4))\n",
    "plt.imshow(data, origin='lower', interpolation='nearest')\n",
    "plt.scatter(x, y, marker='+', s=180, color='red')\n",
    "plt.tight_layout()\n",
    "\n",
    "\n",
    "# Now save the annotated plot in Data using a buffer\n",
    "\n",
    "with io.BytesIO() as buf:\n",
    "    plt.savefig(buf, format='png')\n",
    "    buf.seek(0)\n",
    "    d.stream_upload(buf, '/home/icEMail:justin.ely@ic.com/centroid.png')\n"
   ]
  },
  {
   "cell_type": "markdown",
   "id": "fifty-science",
   "metadata": {},
   "source": [
    "Lets try reading the image back out"
   ]
  },
  {
   "cell_type": "code",
   "execution_count": null,
   "id": "assisted-cross",
   "metadata": {},
   "outputs": [],
   "source": [
    "from PIL import Image\n",
    "\n",
    "img = Image.open(d.get_byte_steam('/home/icEMail:justin.ely@ic.com/centroid.png'))\n",
    "\n",
    "img"
   ]
  },
  {
   "cell_type": "code",
   "execution_count": null,
   "id": "important-tobacco",
   "metadata": {},
   "outputs": [],
   "source": [
    "img1 = d.stream_file('/home/icEMail:justin.ely@ic.com/centroid.png')\n",
    "\n",
    "img1"
   ]
  },
  {
   "cell_type": "code",
   "execution_count": null,
   "id": "located-prague",
   "metadata": {},
   "outputs": [],
   "source": [
    "ls *.png"
   ]
  },
  {
   "cell_type": "code",
   "execution_count": null,
   "id": "herbal-sheffield",
   "metadata": {},
   "outputs": [],
   "source": []
  },
  {
   "cell_type": "code",
   "execution_count": null,
   "id": "unsigned-lease",
   "metadata": {},
   "outputs": [],
   "source": []
  },
  {
   "cell_type": "code",
   "execution_count": null,
   "id": "eligible-welsh",
   "metadata": {},
   "outputs": [],
   "source": []
  },
  {
   "cell_type": "code",
   "execution_count": null,
   "id": "convertible-district",
   "metadata": {},
   "outputs": [],
   "source": []
  },
  {
   "cell_type": "code",
   "execution_count": null,
   "id": "persistent-square",
   "metadata": {},
   "outputs": [],
   "source": []
  },
  {
   "cell_type": "code",
   "execution_count": null,
   "id": "electric-trailer",
   "metadata": {},
   "outputs": [],
   "source": []
  },
  {
   "cell_type": "code",
   "execution_count": null,
   "id": "balanced-recovery",
   "metadata": {},
   "outputs": [],
   "source": []
  },
  {
   "cell_type": "markdown",
   "id": "coordinate-momentum",
   "metadata": {},
   "source": [
    "### Supports TLS Interactions\n",
    "\n",
    "The library also supports interactions via TLS. To demo this we will interact with a Data instance in DI2E.\n",
    "Unfortunately, this is not implemented in an optimized way so initially it takes a long time when there are a lot of files in the Data instance."
   ]
  },
  {
   "cell_type": "code",
   "execution_count": null,
   "id": "grave-popularity",
   "metadata": {},
   "outputs": [],
   "source": [
    "from importlib import reload\n",
    "reload(pygmdata)\n",
    "cert = \"/Users/dborncamp/.ssh/di2e/20200831/dave.borncamp.crt\"\n",
    "key = \"/Users/dborncamp/.ssh/di2e/20200831/dave.borncamp.key\"\n",
    "\n",
    "d1 = pygmdata.Data(\"https://mesh.greymatter.devcloud.di2e.net/services/sandbox-data/1.1\",\n",
    "                   cert=cert, key=key, repopulate=False, log_level='debug')"
   ]
  },
  {
   "cell_type": "code",
   "execution_count": null,
   "id": "chicken-tackle",
   "metadata": {},
   "outputs": [],
   "source": [
    "d1.hierarchy"
   ]
  },
  {
   "cell_type": "code",
   "execution_count": null,
   "id": "occasional-canyon",
   "metadata": {},
   "outputs": [],
   "source": [
    "security={\"label\": \"Test//GMDATA\",\n",
    "       \"foreground\": \"#FFFFFF\",\n",
    "       \"background\": \"green\"}"
   ]
  },
  {
   "cell_type": "code",
   "execution_count": null,
   "id": "biblical-willow",
   "metadata": {},
   "outputs": [],
   "source": [
    "d1.upload_file(\"/Users/dborncamp/playpen/pygmdata/requirements.txt\", \"/home/icEMail/Test/requirements.txt\", object_policy=op, security=security)"
   ]
  },
  {
   "cell_type": "code",
   "execution_count": null,
   "id": "cathedral-maker",
   "metadata": {},
   "outputs": [],
   "source": [
    "target_dir = \"/home/icEMail:justin.ely@ic.com\"\n",
    "d.get_props(target_dir)"
   ]
  },
  {
   "cell_type": "code",
   "execution_count": null,
   "id": "elect-hawaiian",
   "metadata": {},
   "outputs": [],
   "source": [
    "d1.upload_file(\"/Users/dborncamp/playpen/pygmdata/requirements.txt\", \"/home/icEMail:justin.ely@ic.com/requirements.txt\")"
   ]
  },
  {
   "cell_type": "code",
   "execution_count": null,
   "id": "restricted-verification",
   "metadata": {},
   "outputs": [],
   "source": []
  },
  {
   "cell_type": "code",
   "execution_count": null,
   "id": "paperback-district",
   "metadata": {},
   "outputs": [],
   "source": [
    "len(d.hierarchy)"
   ]
  },
  {
   "cell_type": "code",
   "execution_count": null,
   "id": "abstract-combination",
   "metadata": {},
   "outputs": [],
   "source": []
  },
  {
   "cell_type": "code",
   "execution_count": null,
   "id": "finnish-communication",
   "metadata": {},
   "outputs": [],
   "source": []
  },
  {
   "cell_type": "code",
   "execution_count": null,
   "id": "continental-audio",
   "metadata": {},
   "outputs": [],
   "source": []
  },
  {
   "cell_type": "code",
   "execution_count": null,
   "id": "utility-proposition",
   "metadata": {},
   "outputs": [],
   "source": [
    "d.populate_hierarchy(\"/\")"
   ]
  },
  {
   "cell_type": "code",
   "execution_count": null,
   "id": "focal-overhead",
   "metadata": {},
   "outputs": [],
   "source": [
    "from importlib import reload\n",
    "reload(pygmdata)\n",
    "d = pygmdata.Data(\"http://localhost:8181\", USER_DN='CN=dave.borncamp,OU=Engineering,O=Untrusted Example,L=Baltimore,ST=MD,C=US', log_level='debug') "
   ]
  },
  {
   "cell_type": "code",
   "execution_count": null,
   "id": "graduate-money",
   "metadata": {},
   "outputs": [],
   "source": []
  }
 ],
 "metadata": {
  "kernelspec": {
   "display_name": "Python 3",
   "language": "python",
   "name": "python3"
  },
  "language_info": {
   "codemirror_mode": {
    "name": "ipython",
    "version": 3
   },
   "file_extension": ".py",
   "mimetype": "text/x-python",
   "name": "python",
   "nbconvert_exporter": "python",
   "pygments_lexer": "ipython3",
   "version": "3.8.6"
  }
 },
 "nbformat": 4,
 "nbformat_minor": 5
}